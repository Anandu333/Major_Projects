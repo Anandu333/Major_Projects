{
 "cells": [
  {
   "cell_type": "code",
   "execution_count": 2,
   "id": "9e38b901-0b80-48cc-8cb6-8a1c22772573",
   "metadata": {},
   "outputs": [],
   "source": [
    "import os\n",
    "import streamlit as st\n",
    "import pickle\n",
    "import time\n",
    "import langchain\n",
    "from langchain import OpenAI\n",
    "from langchain.chains import RetrievalQAWithSourcesChain\n",
    "from langchain.chains.qa_with_sources.loading import load_qa_with_sources_chain\n",
    "from langchain.text_splitter import RecursiveCharacterTextSplitter\n",
    "from langchain.document_loaders import UnstructuredURLLoader\n",
    "from langchain.embeddings import OpenAIEmbeddings\n",
    "from langchain.vectorstores import FAISS"
   ]
  },
  {
   "cell_type": "code",
   "execution_count": 6,
   "id": "363baaa2-2955-4e3b-bbe3-67f102836246",
   "metadata": {},
   "outputs": [],
   "source": [
    "#load openAI api key\n",
    "os.environ['OPENAI_API_KEY'] = 'sk-r12-72nQx-K_-IBtx7-szXzY3voxNsnfcD6hSI9r5PT3BlbkFJGxncVHubVKbbxUsWFxbvZ8lsMBArLsee-WcGCUbm4A'"
   ]
  },
  {
   "cell_type": "code",
   "execution_count": 7,
   "id": "55dc6d73-ef41-4603-903c-251b4c9b6e56",
   "metadata": {},
   "outputs": [],
   "source": [
    "# Initialise LLM with required params\n",
    "llm = OpenAI(temperature=0.9, max_tokens=500) "
   ]
  },
  {
   "cell_type": "code",
   "execution_count": 8,
   "id": "eb42c638-56b1-47f7-804f-efe942b95d8e",
   "metadata": {},
   "outputs": [],
   "source": [
    "loaders = UnstructuredURLLoader(urls=[\n",
    "    \"https://www.moneycontrol.com/news/gold-rates-today/\",\n",
    "    \"https://www.moneycontrol.com/news/business/tata-motors-launches-punch-icng-price-starts-at-rs-7-1-lakh-11098751.html\"\n",
    "])\n"
   ]
  },
  {
   "cell_type": "code",
   "execution_count": 9,
   "id": "99038436-08db-41f3-b26f-4c3ded0f3468",
   "metadata": {},
   "outputs": [
    {
     "data": {
      "text/plain": [
       "2"
      ]
     },
     "execution_count": 9,
     "metadata": {},
     "output_type": "execute_result"
    }
   ],
   "source": [
    "data = loaders.load() \n",
    "len(data)"
   ]
  },
  {
   "cell_type": "code",
   "execution_count": 10,
   "id": "1a007675-2159-45eb-9b6d-9f25cefffbf6",
   "metadata": {},
   "outputs": [],
   "source": [
    "text_splitter = RecursiveCharacterTextSplitter(\n",
    "    chunk_size=1000,\n",
    "    chunk_overlap=200\n",
    ")\n",
    "\n",
    "# As data is of type documents we can directly use split_documents over split_text in order to get the chunks.\n",
    "docs = text_splitter.split_documents(data)"
   ]
  },
  {
   "cell_type": "code",
   "execution_count": 11,
   "id": "f37d7720-7138-4446-abdc-a07348ce80c4",
   "metadata": {},
   "outputs": [
    {
     "data": {
      "text/plain": [
       "28"
      ]
     },
     "execution_count": 11,
     "metadata": {},
     "output_type": "execute_result"
    }
   ],
   "source": [
    "len(docs)"
   ]
  },
  {
   "cell_type": "code",
   "execution_count": 12,
   "id": "32e5c770-054d-4d13-aae7-04d72902db1c",
   "metadata": {},
   "outputs": [
    {
     "data": {
      "text/plain": [
       "Document(metadata={'source': 'https://www.moneycontrol.com/news/gold-rates-today/'}, page_content='English\\n\\nHindi\\n\\nGujarati\\n\\nSpecials\\n\\nHello, Login\\n\\nHello, Login\\n\\nLog-inor Sign-Up\\n\\nMy Account\\n\\nMy Profile\\n\\nMy Portfolio\\n\\nMy Watchlist\\n\\nFREE Credit Score₹100 Cash Reward\\n\\nFixed Deposits\\n\\nMy Alerts\\n\\nMy Messages\\n\\nPrice Alerts\\n\\nMy Profile\\n\\nMy PRO\\n\\nMy Portfolio\\n\\nMy Watchlist\\n\\nFREE Credit Score₹100 Cash Reward\\n\\nFixed Deposits\\n\\nMy Alerts\\n\\nMy Messages\\n\\nPrice Alerts\\n\\nLogout\\n\\nChat with Us\\n\\nDownload App\\n\\nFollow us on:\\n\\nGo Ad-Free\\n\\nMy Alerts\\n\\n>->MC_ENG_DESKTOP/MC_ENG_NEWS/MC_ENG_NEWS_COMMODITY_PRICE_AS/MC_ENG_ROS_NWS_COMM_PRC_AS_ATF_728|~|MC_ENG_DESKTOP/MC_ENG_NEWS/MC_ENG_NEWS_COMMODITY_PRICE_AS/MC_ENG_ROS_NWS_COMM_PRC_AS_ATF_728\\n\\nGo PRO @₹99 PRO\\n\\nAdvertisement\\n\\nRemove Ad\\n\\nBusiness\\n\\nMarkets\\n\\nStocks\\n\\nEconomy\\n\\nCompanies\\n\\nTrends\\n\\nIPO\\n\\nOpinion\\n\\nEV Special\\n\\nHomeNewsGold rates today\\n\\nGOLD RATE IN INDIA\\n\\nAs on Oct, 01 2024\\n\\nGOLD RATE YESTERDAY\\n\\n₹ 74,970 0.43%\\n\\nMumbai\\n\\nAgra\\n\\nAhmedabad\\n\\nAndhra pradesh\\n\\nAssam\\n\\nBangalore\\n\\nBhilai\\n\\nBhopal\\n\\nBhubaneswar\\n\\nBihar\\n\\nChandigarh\\n\\nChennai\\n\\nChhattisgarh\\n\\nCoimbatore')"
      ]
     },
     "execution_count": 12,
     "metadata": {},
     "output_type": "execute_result"
    }
   ],
   "source": [
    "docs[0]"
   ]
  },
  {
   "cell_type": "code",
   "execution_count": 13,
   "id": "911ccea2-65a5-40ab-9dcd-68bbfb3595f0",
   "metadata": {},
   "outputs": [
    {
     "name": "stderr",
     "output_type": "stream",
     "text": [
      "C:\\Users\\ACER\\anaconda3\\Lib\\site-packages\\transformers\\tokenization_utils_base.py:1617: FutureWarning: `clean_up_tokenization_spaces` was not set. It will be set to `True` by default. This behavior will be deprecated in transformers v4.45, and will be then set to `False` by default. For more details check this issue: https://github.com/huggingface/transformers/issues/31884\n",
      "  warnings.warn(\n"
     ]
    },
    {
     "name": "stdout",
     "output_type": "stream",
     "text": [
      "Shape of embeddings: (28, 768)\n"
     ]
    }
   ],
   "source": [
    "from sentence_transformers import SentenceTransformer\n",
    "\n",
    "# Load the Sentence Transformer model\n",
    "model = SentenceTransformer('all-mpnet-base-v2')  # You can choose a different model if desired\n",
    "\n",
    "# Create embeddings for the document chunks\n",
    "embeddings = model.encode([doc.page_content for doc in docs])  # Extracting text content from Document objects\n",
    "\n",
    "# Display the shape of the embeddings\n",
    "print(f\"Shape of embeddings: {embeddings.shape}\")\n"
   ]
  },
  {
   "cell_type": "code",
   "execution_count": 14,
   "id": "ca353a4a-a813-4a47-ab95-323299562a9c",
   "metadata": {},
   "outputs": [
    {
     "name": "stdout",
     "output_type": "stream",
     "text": [
      "FAISS index created and embeddings added.\n"
     ]
    }
   ],
   "source": [
    "import faiss\n",
    "import numpy as np\n",
    "\n",
    "# Assuming 'embeddings' is a NumPy array containing the embeddings for your document chunks\n",
    "# Convert embeddings to float32 as required by FAISS\n",
    "embeddings = embeddings.astype(np.float32)\n",
    "\n",
    "# Create a FAISS index\n",
    "dimension = embeddings.shape[1]  # Get the number of dimensions of the embeddings\n",
    "index = faiss.IndexFlatL2(dimension)  # Use L2 distance for the index\n",
    "\n",
    "# Add the embeddings to the index\n",
    "index.add(embeddings)\n",
    "\n",
    "# Optionally, save the FAISS index to a file\n",
    "faiss.write_index(index, \"vector_index.faiss\")\n",
    "\n",
    "# If you want to load the FAISS index later\n",
    "# loaded_index = faiss.read_index(\"vector_index.faiss\")\n",
    "\n",
    "print(\"FAISS index created and embeddings added.\")\n"
   ]
  },
  {
   "cell_type": "code",
   "execution_count": 18,
   "id": "f643e571-c080-4ca6-a4a3-98a3356f1ad7",
   "metadata": {},
   "outputs": [],
   "source": [
    "# Store the FAISS index using pickle\n",
    "\n",
    "\n",
    "file_path = \"vector_index.pkl\"\n",
    "with open(file_path, \"wb\") as f:\n",
    "    pickle.dump(index, f)"
   ]
  },
  {
   "cell_type": "code",
   "execution_count": 31,
   "id": "525d9c14-03ed-4bce-bff9-992999dfd0d3",
   "metadata": {},
   "outputs": [
    {
     "name": "stdout",
     "output_type": "stream",
     "text": [
      "FAISS index loaded successfully.\n"
     ]
    }
   ],
   "source": [
    "# Load the FAISS index from the pickle file\n",
    "file_path = \"vector_index.pkl\"\n",
    "with open(file_path, \"rb\") as f:\n",
    "    vectorIndex = pickle.load(f)\n",
    "\n",
    "print(\"FAISS index loaded successfully.\")"
   ]
  },
  {
   "cell_type": "code",
   "execution_count": 54,
   "id": "01b2b686-bd4e-4b24-9e1a-64beb8c7e7d1",
   "metadata": {},
   "outputs": [
    {
     "name": "stderr",
     "output_type": "stream",
     "text": [
      "`embedding_function` is expected to be an Embeddings object, support for passing in a function will soon be removed.\n"
     ]
    }
   ],
   "source": [
    "from langchain.vectorstores import FAISS\n",
    "from langchain.docstore.in_memory import InMemoryDocstore\n",
    "from langchain.schema import Document\n",
    "from sentence_transformers import SentenceTransformer\n",
    "import faiss\n",
    "import numpy as np\n",
    "import pickle\n",
    "\n",
    "# Assuming your embeddings and docs are already set up\n",
    "# model: SentenceTransformer instance\n",
    "# docs: List of documents\n",
    "\n",
    "# Convert document list to Document objects expected by LangChain\n",
    "documents = [Document(page_content=doc.page_content) for doc in docs]\n",
    "\n",
    "# Create a FAISS index\n",
    "# Assuming the embeddings and index creation code remains unchanged\n",
    "\n",
    "# Create the document store (InMemoryDocstore) instead of using a plain dict\n",
    "docstore = InMemoryDocstore(dict(enumerate(documents)))\n",
    "\n",
    "# Define the embedding function for the query\n",
    "def embed_query(query):\n",
    "    return model.encode(query).astype(np.float32)\n",
    "\n",
    "# Create the FAISS vector store\n",
    "vector_store = FAISS(\n",
    "    embedding_function=embed_query,\n",
    "    index=vectorIndex,\n",
    "    docstore=docstore,\n",
    "    index_to_docstore_id={i: i for i in range(len(docs))}\n",
    ")\n",
    "\n",
    "# Create a retriever from the vector store\n",
    "retriever = vector_store.as_retriever()\n",
    "\n"
   ]
  },
  {
   "cell_type": "code",
   "execution_count": 50,
   "id": "2f8450e2-1aed-461d-bf2d-c65397a11c5b",
   "metadata": {},
   "outputs": [
    {
     "name": "stdout",
     "output_type": "stream",
     "text": [
      "<class 'langchain.chains.qa_with_sources.retrieval.RetrievalQAWithSourcesChain'>\n"
     ]
    }
   ],
   "source": [
    "print(type(qa_chain)) "
   ]
  },
  {
   "cell_type": "code",
   "execution_count": 51,
   "id": "157ed92c-d9c7-449b-aa60-062bcc2cb3ee",
   "metadata": {},
   "outputs": [
    {
     "data": {
      "text/plain": [
       "RetrievalQAWithSourcesChain(verbose=False, combine_documents_chain=MapReduceDocumentsChain(verbose=False, llm_chain=LLMChain(verbose=False, prompt=PromptTemplate(input_variables=['context', 'question'], input_types={}, partial_variables={}, template='Use the following portion of a long document to see if any of the text is relevant to answer the question. \\nReturn any relevant text verbatim.\\n{context}\\nQuestion: {question}\\nRelevant text, if any:'), llm=OpenAI(client=<openai.resources.completions.Completions object at 0x0000025297064FD0>, async_client=<openai.resources.completions.AsyncCompletions object at 0x0000025296FC5E90>, model_name='text-davinci-003', model_kwargs={}, openai_api_key='sk-r12-72nQx-K_-IBtx7-szXzY3voxNsnfcD6hSI9r5PT3BlbkFJGxncVHubVKbbxUsWFxbvZ8lsMBArLsee-WcGCUbm4A', openai_proxy='', logit_bias={}), output_parser=StrOutputParser(), llm_kwargs={}), reduce_documents_chain=ReduceDocumentsChain(verbose=False, combine_documents_chain=StuffDocumentsChain(verbose=False, llm_chain=LLMChain(verbose=False, prompt=PromptTemplate(input_variables=['question', 'summaries'], input_types={}, partial_variables={}, template='Given the following extracted parts of a long document and a question, create a final answer with references (\"SOURCES\"). \\nIf you don\\'t know the answer, just say that you don\\'t know. Don\\'t try to make up an answer.\\nALWAYS return a \"SOURCES\" part in your answer.\\n\\nQUESTION: Which state/country\\'s law governs the interpretation of the contract?\\n=========\\nContent: This Agreement is governed by English law and the parties submit to the exclusive jurisdiction of the English courts in  relation to any dispute (contractual or non-contractual) concerning this Agreement save that either party may apply to any court for an  injunction or other relief to protect its Intellectual Property Rights.\\nSource: 28-pl\\nContent: No Waiver. Failure or delay in exercising any right or remedy under this Agreement shall not constitute a waiver of such (or any other)  right or remedy.\\n\\n11.7 Severability. The invalidity, illegality or unenforceability of any term (or part of a term) of this Agreement shall not affect the continuation  in force of the remainder of the term (if any) and this Agreement.\\n\\n11.8 No Agency. Except as expressly stated otherwise, nothing in this Agreement shall create an agency, partnership or joint venture of any  kind between the parties.\\n\\n11.9 No Third-Party Beneficiaries.\\nSource: 30-pl\\nContent: (b) if Google believes, in good faith, that the Distributor has violated or caused Google to violate any Anti-Bribery Laws (as  defined in Clause 8.5) or that such a violation is reasonably likely to occur,\\nSource: 4-pl\\n=========\\nFINAL ANSWER: This Agreement is governed by English law.\\nSOURCES: 28-pl\\n\\nQUESTION: What did the president say about Michael Jackson?\\n=========\\nContent: Madam Speaker, Madam Vice President, our First Lady and Second Gentleman. Members of Congress and the Cabinet. Justices of the Supreme Court. My fellow Americans.  \\n\\nLast year COVID-19 kept us apart. This year we are finally together again. \\n\\nTonight, we meet as Democrats Republicans and Independents. But most importantly as Americans. \\n\\nWith a duty to one another to the American people to the Constitution. \\n\\nAnd with an unwavering resolve that freedom will always triumph over tyranny. \\n\\nSix days ago, Russia’s Vladimir Putin sought to shake the foundations of the free world thinking he could make it bend to his menacing ways. But he badly miscalculated. \\n\\nHe thought he could roll into Ukraine and the world would roll over. Instead he met a wall of strength he never imagined. \\n\\nHe met the Ukrainian people. \\n\\nFrom President Zelenskyy to every Ukrainian, their fearlessness, their courage, their determination, inspires the world. \\n\\nGroups of citizens blocking tanks with their bodies. Everyone from students to retirees teachers turned soldiers defending their homeland.\\nSource: 0-pl\\nContent: And we won’t stop. \\n\\nWe have lost so much to COVID-19. Time with one another. And worst of all, so much loss of life. \\n\\nLet’s use this moment to reset. Let’s stop looking at COVID-19 as a partisan dividing line and see it for what it is: A God-awful disease.  \\n\\nLet’s stop seeing each other as enemies, and start seeing each other for who we really are: Fellow Americans.  \\n\\nWe can’t change how divided we’ve been. But we can change how we move forward—on COVID-19 and other issues we must face together. \\n\\nI recently visited the New York City Police Department days after the funerals of Officer Wilbert Mora and his partner, Officer Jason Rivera. \\n\\nThey were responding to a 9-1-1 call when a man shot and killed them with a stolen gun. \\n\\nOfficer Mora was 27 years old. \\n\\nOfficer Rivera was 22. \\n\\nBoth Dominican Americans who’d grown up on the same streets they later chose to patrol as police officers. \\n\\nI spoke with their families and told them that we are forever in debt for their sacrifice, and we will carry on their mission to restore the trust and safety every community deserves.\\nSource: 24-pl\\nContent: And a proud Ukrainian people, who have known 30 years  of independence, have repeatedly shown that they will not tolerate anyone who tries to take their country backwards.  \\n\\nTo all Americans, I will be honest with you, as I’ve always promised. A Russian dictator, invading a foreign country, has costs around the world. \\n\\nAnd I’m taking robust action to make sure the pain of our sanctions  is targeted at Russia’s economy. And I will use every tool at our disposal to protect American businesses and consumers. \\n\\nTonight, I can announce that the United States has worked with 30 other countries to release 60 Million barrels of oil from reserves around the world.  \\n\\nAmerica will lead that effort, releasing 30 Million barrels from our own Strategic Petroleum Reserve. And we stand ready to do more if necessary, unified with our allies.  \\n\\nThese steps will help blunt gas prices here at home. And I know the news about what’s happening can seem alarming. \\n\\nBut I want you to know that we are going to be okay.\\nSource: 5-pl\\nContent: More support for patients and families. \\n\\nTo get there, I call on Congress to fund ARPA-H, the Advanced Research Projects Agency for Health. \\n\\nIt’s based on DARPA—the Defense Department project that led to the Internet, GPS, and so much more.  \\n\\nARPA-H will have a singular purpose—to drive breakthroughs in cancer, Alzheimer’s, diabetes, and more. \\n\\nA unity agenda for the nation. \\n\\nWe can do this. \\n\\nMy fellow Americans—tonight , we have gathered in a sacred space—the citadel of our democracy. \\n\\nIn this Capitol, generation after generation, Americans have debated great questions amid great strife, and have done great things. \\n\\nWe have fought for freedom, expanded liberty, defeated totalitarianism and terror. \\n\\nAnd built the strongest, freest, and most prosperous nation the world has ever known. \\n\\nNow is the hour. \\n\\nOur moment of responsibility. \\n\\nOur test of resolve and conscience, of history itself. \\n\\nIt is in this moment that our character is formed. Our purpose is found. Our future is forged. \\n\\nWell I know this nation.\\nSource: 34-pl\\n=========\\nFINAL ANSWER: The president did not mention Michael Jackson.\\nSOURCES:\\n\\nQUESTION: {question}\\n=========\\n{summaries}\\n=========\\nFINAL ANSWER:'), llm=OpenAI(client=<openai.resources.completions.Completions object at 0x0000025297064FD0>, async_client=<openai.resources.completions.AsyncCompletions object at 0x0000025296FC5E90>, model_name='text-davinci-003', model_kwargs={}, openai_api_key='sk-r12-72nQx-K_-IBtx7-szXzY3voxNsnfcD6hSI9r5PT3BlbkFJGxncVHubVKbbxUsWFxbvZ8lsMBArLsee-WcGCUbm4A', openai_proxy='', logit_bias={}), output_parser=StrOutputParser(), llm_kwargs={}), document_prompt=PromptTemplate(input_variables=['page_content', 'source'], input_types={}, partial_variables={}, template='Content: {page_content}\\nSource: {source}'), document_variable_name='summaries')), document_variable_name='context'), retriever=VectorStoreRetriever(tags=['FAISS'], vectorstore=<langchain_community.vectorstores.faiss.FAISS object at 0x0000025297032950>, search_kwargs={}))"
      ]
     },
     "execution_count": 51,
     "metadata": {},
     "output_type": "execute_result"
    }
   ],
   "source": [
    "qa_chain"
   ]
  },
  {
   "cell_type": "code",
   "execution_count": 56,
   "id": "33744299-2592-488c-8a29-ea4c964c19cc",
   "metadata": {},
   "outputs": [
    {
     "name": "stdout",
     "output_type": "stream",
     "text": [
      "Retrieved 4 documents.\n",
      "page_content='The company also said it has also introduced the twin-cylinder technology on its Tiago and Tigor models.\n",
      "\n",
      "The Tiago iCNG is priced between Rs 6.55 lakh and Rs 8.1 lakh, while the Tigor iCNG comes at a price range of Rs 7.8 lakh to Rs 8.95 lakh.\n",
      "\n",
      "Tata Motors Passenger Vehicles Ltd Head-Marketing, Vinay Pant said these introductions put together will make the company's CNG line up \"appealing, holistic, and stronger than ever\".\n",
      "\n",
      "PTI\n",
      "\n",
      "Tags: #Business #Companies\n",
      "\n",
      "first published: Aug 4, 2023 02:17 pm\n",
      "\n",
      "Top Trends\n",
      "\n",
      "Angel TaxWiproBudget newsNew Income tax slabIPO News\n",
      "\n",
      "Advertisement\n",
      "\n",
      "Remove Ad\n",
      "\n",
      "Advertisement\n",
      "\n",
      "Remove Ad\n",
      "\n",
      "Advertisement\n",
      "\n",
      "Remove Ad\n",
      "\n",
      "Advertisement\n",
      "\n",
      "Remove Ad\n",
      "\n",
      "Advertisement\n",
      "\n",
      "Remove Ad\n",
      "\n",
      "Advertisement\n",
      "\n",
      "Remove Ad\n",
      "\n",
      "Advisory Alert:\n",
      "\n",
      "Forum Facebook Twitter Instagram Linkedin RSS\n",
      "\n",
      "Portfolio\n",
      "\n",
      "Markets\n",
      "\n",
      "Watchlist\n",
      "\n",
      "Live TV Show\n",
      "\n",
      "Currencies\n",
      "\n",
      "FREE Credit Score₹100 Cash Reward\n",
      "\n",
      "Finance Tracker\n",
      "\n",
      "Commodities\n",
      "\n",
      "Fixed Deposits\n",
      "\n",
      "Fixed Income\n",
      "\n",
      "Personal Finance\n",
      "\n",
      "Mutual Fund\n",
      "\n",
      "Pre-Market\n",
      "\n",
      "IPO'\n",
      "page_content='Set Alert\n",
      "\n",
      "live\n",
      "\n",
      "bselive\n",
      "\n",
      "nselive\n",
      "\n",
      "Volume\n",
      "\n",
      "Todays L/H\n",
      "\n",
      "More\n",
      "\n",
      "Tata Motors on Friday launched the CNG variant of its micro SUV Punch priced between Rs 7.1 lakh and Rs 9.68 lakh (ex-showroom, Delhi).\n",
      "\n",
      "The Punch iCNG is equipped with the company's proprietary twin-cylinder technology with enhanced safety features like a micro-switch to keep the car switched off at the time of refuelling and thermal incident protection that cuts off CNG supply to the engine and releases gas into the atmosphere, Tata Motors said in a statement.\n",
      "\n",
      "Story continues below Advertisement\n",
      "\n",
      "Remove Ad\n",
      "\n",
      "It is also equipped with other features such as voice assisted electric sunroof, automatic projector headlamps, LED DRLs, 16-inch diamond cut alloy wheels, 7-inch infotainment system by Harman that supports Android Auto and Apple Carplay connectivity, rain sensing wipers and height adjustable driver seat.\n",
      "\n",
      "The company also said it has also introduced the twin-cylinder technology on its Tiago and Tigor models.'\n",
      "page_content='Trending Topics\n",
      "\n",
      "Business News LiveAshneer GroverDiffusion Engineers IPO Allotment Status Bank Holidays in OctonberGold Price Today\n",
      "\n",
      "Tata Motors launches Punch iCNG, price starts at Rs 7.1 lakh\n",
      "\n",
      "The Punch iCNG is equipped with the company's proprietary twin-cylinder technology with enhanced safety features like a micro-switch to keep the car switched off at the time of refuelling and thermal incident protection that cuts off CNG supply to the engine and releases gas into the atmosphere, Tata Motors said in a statement.\n",
      "\n",
      "PTI\n",
      "\n",
      "August 04, 2023 / 14:17 IST\n",
      "\n",
      "Tata Motors launches Punch iCNG, price starts at Rs 7.1 lakh\n",
      "\n",
      "Watchlist\n",
      "\n",
      "Portfolio\n",
      "\n",
      "Message\n",
      "\n",
      "Set Alert\n",
      "\n",
      "live\n",
      "\n",
      "bselive\n",
      "\n",
      "nselive\n",
      "\n",
      "Volume\n",
      "\n",
      "Todays L/H\n",
      "\n",
      "More\n",
      "\n",
      "Tata Motors on Friday launched the CNG variant of its micro SUV Punch priced between Rs 7.1 lakh and Rs 9.68 lakh (ex-showroom, Delhi).'\n",
      "page_content='Disclaimer\n",
      "\n",
      "Moneycontrol makes no guarantee or warranty on the accuracy of the data provided on this site, the prevailing rates are susceptible to change with Market value and provided on an as-is basis. These rates are indicative only, and notÂ a solicitation to buy, sell in precious gold. For exact rates contact your local jeweller. Nothing contained herein is intended or shall be deemed to be investment advice, implied or otherwise. We accept no liability for any loss arising from the use of the data contained on this website.\n",
      "\n",
      "Advisory Alert:\n",
      "\n",
      "Forum Facebook Twitter Instagram Linkedin RSS\n",
      "\n",
      "Portfolio\n",
      "\n",
      "Markets\n",
      "\n",
      "Watchlist\n",
      "\n",
      "Live TV Show\n",
      "\n",
      "Currencies\n",
      "\n",
      "FREE Credit Score₹100 Cash Reward\n",
      "\n",
      "Finance Tracker\n",
      "\n",
      "Commodities\n",
      "\n",
      "Fixed Deposits\n",
      "\n",
      "Fixed Income\n",
      "\n",
      "Personal Finance\n",
      "\n",
      "Mutual Fund\n",
      "\n",
      "Pre-Market\n",
      "\n",
      "IPO\n",
      "\n",
      "Global Market\n",
      "\n",
      "Budget 2024\n",
      "\n",
      "Elections 2024\n",
      "\n",
      "Gold Rate\n",
      "\n",
      "BSE Sensex\n",
      "\n",
      "Forum\n",
      "\n",
      "MC 30\n",
      "\n",
      "News\n",
      "\n",
      "Business\n",
      "\n",
      "Markets\n",
      "\n",
      "Stocks\n",
      "\n",
      "Income Tax Calculator\n",
      "\n",
      "Election Schedule 2024\n",
      "\n",
      "India News\n",
      "\n",
      "Economy\n",
      "\n",
      "Mutual Funds'\n"
     ]
    }
   ],
   "source": [
    "# Define your query\n",
    "query = \"What is the price of Tiago iCNG?\"\n",
    "\n",
    "# Retrieve the most relevant documents\n",
    "retrieved_docs = retriever.get_relevant_documents(query)\n",
    "\n",
    "\n",
    "# Print out the results\n",
    "print(f\"Retrieved {len(retrieved_docs)} documents.\")\n",
    "for doc in retrieved_docs:\n",
    "    print(doc)\n"
   ]
  }
 ],
 "metadata": {
  "kernelspec": {
   "display_name": "Python 3 (ipykernel)",
   "language": "python",
   "name": "python3"
  },
  "language_info": {
   "codemirror_mode": {
    "name": "ipython",
    "version": 3
   },
   "file_extension": ".py",
   "mimetype": "text/x-python",
   "name": "python",
   "nbconvert_exporter": "python",
   "pygments_lexer": "ipython3",
   "version": "3.11.7"
  }
 },
 "nbformat": 4,
 "nbformat_minor": 5
}
